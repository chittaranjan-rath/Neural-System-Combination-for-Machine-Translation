{
 "cells": [
  {
   "cell_type": "code",
   "execution_count": 16,
   "metadata": {},
   "outputs": [
    {
     "name": "stdout",
     "output_type": "stream",
     "text": [
      "len lines1  401\n",
      "len lines2  401\n",
      "line1 example\n",
      "but you will also be safe from eye diseases .\n",
      "line2 example\n",
      "बल्कि आप नेत्ररोगों से भी बचे रहेंगे ।\n"
     ]
    }
   ],
   "source": [
    "lines1 = open('dev.en',encoding='utf-8').read().strip().split('\\n')\n",
    "lines2 = open('dev.hi',encoding='utf-8').read().strip().split('\\n')\n",
    "\n",
    "l1 = len(lines1)\n",
    "l2 = len(lines2)\n",
    "print(\"len lines1 \",l1)\n",
    "print(\"len lines2 \",l2)\n",
    "print(\"line1 example\")\n",
    "print(lines1[0])\n",
    "print(\"line2 example\")\n",
    "print(lines2[0])"
   ]
  },
  {
   "cell_type": "code",
   "execution_count": 17,
   "metadata": {},
   "outputs": [],
   "source": [
    "def splitList(lname):\n",
    "    lname_train = lname[0:(len(lname))//2]\n",
    "    lname_test  = lname[len(lname)//2:]\n",
    "    print(len(lname_train))\n",
    "    print(lname_train[0])\n",
    "    print(len(lname_test))\n",
    "    print(lname_test[0])\n",
    "    return lname_train , lname_test"
   ]
  },
  {
   "cell_type": "code",
   "execution_count": 18,
   "metadata": {
    "scrolled": true
   },
   "outputs": [
    {
     "name": "stdout",
     "output_type": "stream",
     "text": [
      "200\n",
      "but you will also be safe from eye diseases .\n",
      "201\n",
      "On moving a little more ahead downwards Gangamaya sorrounded by mountains was found .\n",
      "200\n",
      "बल्कि आप नेत्ररोगों से भी बचे रहेंगे ।\n",
      "201\n",
      "यहाँ से थोड़ा और नीचे बढ़ने पर पहाड़ियों से घिरा गंगामाया मिला ।\n",
      "After function called\n",
      "200\n",
      "but you will also be safe from eye diseases .\n",
      "201\n",
      "On moving a little more ahead downwards Gangamaya sorrounded by mountains was found .\n",
      "200\n",
      "बल्कि आप नेत्ररोगों से भी बचे रहेंगे ।\n",
      "201\n",
      "यहाँ से थोड़ा और नीचे बढ़ने पर पहाड़ियों से घिरा गंगामाया मिला ।\n"
     ]
    }
   ],
   "source": [
    "lines1_train,lines1_test = splitList(lines1)\n",
    "lines2_train,lines2_test = splitList(lines2)\n",
    "print(\"After function called\")\n",
    "print(len(lines1_train))\n",
    "print(lines1_train[0])\n",
    "print(len(lines1_test))\n",
    "print(lines1_test[0])\n",
    "print(len(lines2_train))\n",
    "print(lines2_train[0])\n",
    "print(len(lines2_test))\n",
    "print(lines2_test[0])"
   ]
  },
  {
   "cell_type": "code",
   "execution_count": 20,
   "metadata": {},
   "outputs": [],
   "source": [
    "def writeToFile(fileName,listName):\n",
    "    with open(fileName, 'w') as f:\n",
    "        for item in listName:\n",
    "            f.write(\"%s\\n\" % item)"
   ]
  },
  {
   "cell_type": "code",
   "execution_count": 21,
   "metadata": {},
   "outputs": [],
   "source": [
    "writeToFile(\"en_train\",lines1_train)\n",
    "writeToFile(\"en_test\",lines1_test)"
   ]
  },
  {
   "cell_type": "code",
   "execution_count": 22,
   "metadata": {},
   "outputs": [],
   "source": [
    "writeToFile(\"hi_train\",lines2_train)\n",
    "writeToFile(\"hi_test\",lines2_test)"
   ]
  }
 ],
 "metadata": {
  "kernelspec": {
   "display_name": "Python 3",
   "language": "python",
   "name": "python3"
  },
  "language_info": {
   "codemirror_mode": {
    "name": "ipython",
    "version": 3
   },
   "file_extension": ".py",
   "mimetype": "text/x-python",
   "name": "python",
   "nbconvert_exporter": "python",
   "pygments_lexer": "ipython3",
   "version": "3.6.5"
  }
 },
 "nbformat": 4,
 "nbformat_minor": 2
}
